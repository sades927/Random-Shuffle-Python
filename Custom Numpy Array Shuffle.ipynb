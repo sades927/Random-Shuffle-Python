{
 "cells": [
  {
   "cell_type": "markdown",
   "id": "f176f920-3281-42bb-9637-afbfa18bc687",
   "metadata": {},
   "source": [
    "# Custom Shuffle Function"
   ]
  },
  {
   "cell_type": "markdown",
   "id": "cba6588d-f760-478b-b8d8-7d003cc325e3",
   "metadata": {},
   "source": [
    "Python uses seeds from computer clock, let's try to do this ourselves."
   ]
  },
  {
   "cell_type": "code",
   "execution_count": 1,
   "id": "29137079-6d85-4d70-8d6e-44364abb7ff4",
   "metadata": {},
   "outputs": [],
   "source": [
    "import numpy as np\n",
    "import time"
   ]
  },
  {
   "cell_type": "markdown",
   "id": "1d39615e-535b-4176-8dc3-388c0bf40e39",
   "metadata": {},
   "source": [
    "To understand how \"time\" works: https://www.geeksforgeeks.org/python-time-time-method/\n",
    "\n",
    "In basic terms, your computer has a built in clock that starts from an epoch that you can check from time.gmtime(0). Using time.time() will grab the amount of seconds since the epoch. Since time is constantly moving forward this time.time() will keep changing, so that will help in always have a random number."
   ]
  },
  {
   "cell_type": "code",
   "execution_count": 2,
   "id": "bd7192b9-f9ab-42a9-8f01-3227e68ade6f",
   "metadata": {},
   "outputs": [
    {
     "name": "stdout",
     "output_type": "stream",
     "text": [
      "epoch = time.struct_time(tm_year=1970, tm_mon=1, tm_mday=1, tm_hour=0, tm_min=0, tm_sec=0, tm_wday=3, tm_yday=1, tm_isdst=0)\n",
      "time.time()= 1738354467.8584168\n"
     ]
    }
   ],
   "source": [
    "print(\"epoch =\", time.gmtime(0))\n",
    "print(\"time.time()=\", time.time())"
   ]
  },
  {
   "cell_type": "markdown",
   "id": "4612c388-7ed6-49af-803d-e12da87d4c17",
   "metadata": {},
   "source": [
    "Next, actually using time.time() to shuffle an array... \n",
    "\n",
    "My idea is that I want to swap two random indices. An issue arises: I need to make sure I am still in range. I can't just use arr[time.time()] as that would be astronomically out range. Trying to divide that by a set number won't always work because you may still not be in range overtime. But, what I can do is use the idea of modulus (%) to make sure I am still in the range of the array. This will basically only consider your remainders as you divide time.time() by *something*. If I can keep these remainders in the range of the original array, we are golden. \n",
    "\n",
    "I knew that I was going to use a for loop, and with that I realized I can have \"i\" that starts at 0 and goes through to the length of my array. I don't want to divide by 0 at first, so I will instead divide time.time() by i+1. For simplicity of understanding the modulus better, I made time.time() into an integer, which will just round up to the nearest integer.\n",
    "https://www.geeksforgeeks.org/what-is-a-modulo-operator-in-python/\n",
    "\n",
    "\n",
    "For example:\n",
    "- say time.time() = 1738350574.6431892 (I got this when checking it randomly once)\n",
    "- Then we get int(time.time()) = 1738350575 as this rounds up\n",
    "- We will get then for i = 0: 1738350575%1. This will always = 0\n",
    "- Then i increases by 1 and you get i=1: 1738350575%2 = 1 (think of it like even, odd, where even = 0, odd = 1)\n",
    "- One more example for i = 2, 1738350575%3 = 2. (think in terms of remainder+0, 1/3, 2/3 when you divide by 3)\n",
    "\n",
    "This pattern continues, you will always stay in range since your modulus will never be more than i (modulus i+1 goes from 0 to i)\n",
    "\n",
    "My very last issue is how I will actually swap the elements. I chose to do a simple two element swap, but I think this could really be anything you want as long as its in range. Doing this means sometimes they won't swap because you could get arr[x] = arr[x] at some points, but with the randomness of time, this won't occur for every x. Notice that sometimes maybe you swapped arr[i] with arr[j], but then j changes, so you may just swap right back. This is okay! It is still going to be random almost every time because again, we are using the randomness of time. With greater sizes of arrays gives greater randomness too:)"
   ]
  },
  {
   "cell_type": "code",
   "execution_count": 36,
   "id": "a0f9976a-f807-48f9-980f-225f977792de",
   "metadata": {},
   "outputs": [],
   "source": [
    "#function for shuffling 1D arrays that will use this time.time() function\n",
    "def shuffle_1D(arr):\n",
    "    for i in range(0, len(arr)):\n",
    "        j = int(time.time()) % (i + 1)\n",
    "        arr[i], arr[j] = arr[j], arr[i]\n",
    "    return arr"
   ]
  },
  {
   "cell_type": "code",
   "execution_count": 37,
   "id": "e9c2d908-f098-4cc2-9a05-a47b76199d84",
   "metadata": {},
   "outputs": [
    {
     "name": "stdout",
     "output_type": "stream",
     "text": [
      "pre shuffled 1D array = [1 2 3 4 5 6 7 8 9]\n",
      "shuffled 1D array = [3 7 1 9 2 4 5 6 8]\n"
     ]
    }
   ],
   "source": [
    "#1D array check:\n",
    "arr_1D = np.arange(1,10,1)\n",
    "print(\"pre shuffled 1D array =\", arr_1D)\n",
    "arr_1D_shuffle = shuffle(arr_1D)\n",
    "print(\"shuffled 1D array =\", arr_1D_shuffle)"
   ]
  },
  {
   "cell_type": "markdown",
   "id": "88c6ecc9-e77d-4b4a-965e-49bce35392c9",
   "metadata": {},
   "source": [
    "I realized this only worked for 1D arrays, I would need to change a few things if I want it to work with multidimensional arrays, since len(arr) will actually give me the amount of rows instead of what is actually inside of those rows. The first thing I did then was differentiate whether the array thats being passed into my function is 1D or not, I can do this with an if/else statement using len(arr.shape). This will output 1 if its 1D, and anything greater than 1 for multidimensional arrays. So there is my condition! \n",
    "\n",
    "Now I needed to loop over the multidimensional array rows. I decided to do a nested for-loop, the first one will tell me which row I am in. I will start at the first row (row 0) and then do the shuffle to that row, then go to the next row, and so on, until there are no more rows. So, I need to be in range of the amount of rows, which I can now get with len(arr) as I ruled out the 1D case. The nested for loop will be almost identical to the 1D array case, except we just have to specify that we are on the specific row to get that index. I used 'a' as my first for-loop variable, so in this case, it would be arr[a][i]. For example, for a = 0, this notes that we are at the first row (arr[0]), and to get the ith value of that row [i], with i iterating over the length of the row (len(arr[a])).\n",
    "\n",
    "One issue arose... all the shuffles were nearly identical if I didn't already have a random array. This is because time.time() would be acting like a seed at that instant. So, I just needed to make sure that there was a way of changing this for every row just in case. I opted to change time.time() by multiplying it by itself, so we get something crazy random again every time that won't affect the modulus"
   ]
  },
  {
   "cell_type": "code",
   "execution_count": 38,
   "id": "2dd19f7f-26ab-432c-9f25-d723c9dea5f8",
   "metadata": {},
   "outputs": [],
   "source": [
    "#this can take in any shape array now\n",
    "def shuffle(arr):\n",
    "    if len(arr.shape) > 1:\n",
    "        for a in range(len(arr)):\n",
    "            new_time = time.time()**2\n",
    "            for i in range(0, len(arr[a])):\n",
    "                j = int(new_time) % (i + 1)\n",
    "                arr[a][i], arr[a][j] = arr[a][j], arr[a][i]\n",
    "    else:\n",
    "        for i in range(0, len(arr)):\n",
    "            j = int(time.time()) % (i + 1)\n",
    "            arr[i], arr[j] = arr[j], arr[i]\n",
    "    return arr"
   ]
  },
  {
   "cell_type": "code",
   "execution_count": 40,
   "id": "23353f69-3828-4584-9c7c-b939e7b0c487",
   "metadata": {},
   "outputs": [
    {
     "name": "stdout",
     "output_type": "stream",
     "text": [
      "pre shuffled 1D array = [1 2 3 4 5 6 7 8 9]\n",
      "shuffled 1D array = [7 1 6 5 3 9 8 2 4]\n",
      "pre shuffled 2D array = [[1 2 3 4 5 6 7 8 9]\n",
      " [1 2 3 4 5 6 7 8 9]]\n",
      "shuffled 2D array = [[9 1 2 7 3 4 5 6 8]\n",
      " [9 5 2 7 1 4 3 6 8]]\n"
     ]
    },
    {
     "ename": "TypeError",
     "evalue": "only length-1 arrays can be converted to Python scalars",
     "output_type": "error",
     "traceback": [
      "\u001b[0;31m---------------------------------------------------------------------------\u001b[0m",
      "\u001b[0;31mTypeError\u001b[0m                                 Traceback (most recent call last)",
      "Cell \u001b[0;32mIn[40], line 19\u001b[0m\n\u001b[1;32m     16\u001b[0m \u001b[38;5;28mprint\u001b[39m(\u001b[38;5;124m\"\u001b[39m\u001b[38;5;124mshuffled 2D array =\u001b[39m\u001b[38;5;124m\"\u001b[39m, arr_2D_shuffle)\n\u001b[1;32m     18\u001b[0m \u001b[38;5;66;03m#shuffling from the random array creator\u001b[39;00m\n\u001b[0;32m---> 19\u001b[0m arr_random \u001b[38;5;241m=\u001b[39m \u001b[38;5;28;43mint\u001b[39;49m\u001b[43m(\u001b[49m\u001b[43mnp\u001b[49m\u001b[38;5;241;43m.\u001b[39;49m\u001b[43mrandom\u001b[49m\u001b[38;5;241;43m.\u001b[39;49m\u001b[43mrand\u001b[49m\u001b[43m(\u001b[49m\u001b[38;5;241;43m4\u001b[39;49m\u001b[43m,\u001b[49m\u001b[43m \u001b[49m\u001b[38;5;241;43m7\u001b[39;49m\u001b[43m)\u001b[49m\u001b[43m)\u001b[49m\n\u001b[1;32m     20\u001b[0m \u001b[38;5;28mprint\u001b[39m(\u001b[38;5;124m\"\u001b[39m\u001b[38;5;124mpre shuffled random array =\u001b[39m\u001b[38;5;124m\"\u001b[39m, arr_random)\n\u001b[1;32m     21\u001b[0m arr_random_shuffle \u001b[38;5;241m=\u001b[39m shuffle(arr_random)\n",
      "\u001b[0;31mTypeError\u001b[0m: only length-1 arrays can be converted to Python scalars"
     ]
    }
   ],
   "source": [
    "#feel free to change these test arrays to anything to see if it works to shuffle!\n",
    "\n",
    "#1D array check:\n",
    "arr_1D = np.arange(1,10,1)\n",
    "print(\"pre shuffled 1D array =\", arr_1D)\n",
    "arr_1D_shuffle = shuffle(arr_1D)\n",
    "print(\"shuffled 1D array =\", arr_1D_shuffle)\n",
    "\n",
    "#2D array check:\n",
    "test_arr = np.arange(1,10,1)\n",
    "arr1 = np.arange(1,10,1)\n",
    "arr2 = np.arange(1,10,1)\n",
    "arr_2D = np.array([arr1, arr2])\n",
    "print(\"pre shuffled 2D array =\", arr_2D)\n",
    "arr_2D_shuffle = shuffle(arr_2D)\n",
    "print(\"shuffled 2D array =\", arr_2D_shuffle)\n",
    "\n",
    "#shuffling from the random array creator\n",
    "arr_random = np.random.rand(4, 7)\n",
    "print(\"pre shuffled random array =\", arr_random)\n",
    "arr_random_shuffle = shuffle(arr_random)\n",
    "print(\"shuffled random array =\", arr_random_shuffle)"
   ]
  },
  {
   "cell_type": "code",
   "execution_count": null,
   "id": "5574844a-95fe-4535-a23a-973091c3389e",
   "metadata": {},
   "outputs": [],
   "source": []
  }
 ],
 "metadata": {
  "kernelspec": {
   "display_name": "Python 3 (ipykernel)",
   "language": "python",
   "name": "python3"
  },
  "language_info": {
   "codemirror_mode": {
    "name": "ipython",
    "version": 3
   },
   "file_extension": ".py",
   "mimetype": "text/x-python",
   "name": "python",
   "nbconvert_exporter": "python",
   "pygments_lexer": "ipython3",
   "version": "3.13.1"
  }
 },
 "nbformat": 4,
 "nbformat_minor": 5
}
